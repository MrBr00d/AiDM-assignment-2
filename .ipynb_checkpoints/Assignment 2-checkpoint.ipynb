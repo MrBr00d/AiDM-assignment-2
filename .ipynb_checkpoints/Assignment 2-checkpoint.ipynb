{
 "cells": [
  {
   "cell_type": "code",
   "execution_count": 175,
   "id": "055ec994",
   "metadata": {},
   "outputs": [],
   "source": [
    "import pandas as pd\n",
    "import time\n",
    "import timeit\n",
    "import matplotlib.pyplot as plt\n",
    "from sklearn.ensemble import IsolationForest\n",
    "from sklearn.linear_model import LinearRegression\n",
    "from sklearn.metrics import mean_squared_error"
   ]
  },
  {
   "cell_type": "code",
   "execution_count": 2,
   "id": "e80b5424",
   "metadata": {},
   "outputs": [],
   "source": [
    "train_data = pd.read_csv(\"sales_train.csv\")"
   ]
  },
  {
   "cell_type": "code",
   "execution_count": 183,
   "id": "14502c27",
   "metadata": {
    "scrolled": false
   },
   "outputs": [
    {
     "data": {
      "image/png": "[encoded data removed]",
      "text/plain": [
       "<Figure size 640x480 with 1 Axes>"
      ]
     },
     "metadata": {},
     "output_type": "display_data"
    },
    {
     "name": "stdout",
     "output_type": "stream",
     "text": [
      "       date_block_num       shop_id       item_id    item_price  item_cnt_day\n",
      "count    2.935849e+06  2.935849e+06  2.935849e+06  2.935849e+06  2.935849e+06\n",
      "mean     1.456991e+01  3.300173e+01  1.019723e+04  8.908532e+02  1.242641e+00\n",
      "std      9.422988e+00  1.622697e+01  6.324297e+03  1.729800e+03  2.618834e+00\n",
      "min      0.000000e+00  0.000000e+00  0.000000e+00 -1.000000e+00 -2.200000e+01\n",
      "25%      7.000000e+00  2.200000e+01  4.476000e+03  2.490000e+02  1.000000e+00\n",
      "50%      1.400000e+01  3.100000e+01  9.343000e+03  3.990000e+02  1.000000e+00\n",
      "75%      2.300000e+01  4.700000e+01  1.568400e+04  9.990000e+02  1.000000e+00\n",
      "max      3.300000e+01  5.900000e+01  2.216900e+04  3.079800e+05  2.169000e+03\n"
     ]
    }
   ],
   "source": [
    "plt.boxplot(train_data[\"item_cnt_day\"])\n",
    "plt.show()\n",
    "print(train_data.describe())"
   ]
  },
  {
   "cell_type": "code",
   "execution_count": 119,
   "id": "fe3e5199",
   "metadata": {
    "scrolled": true
   },
   "outputs": [
    {
     "name": "stdout",
     "output_type": "stream",
     "text": [
      "(2935849, 5)\n",
      "(2928493, 5)\n",
      "Walltime: 53.183334827423096\n",
      "(2442047, 5)\n"
     ]
    }
   ],
   "source": [
    "def rem_err_values(dataset):\n",
    "    \"\"\"\n",
    "    Remove all values that are considered to be erroneous.\n",
    "    \"\"\"\n",
    "    dataset = dataset[dataset[\"item_cnt_day\"] > 0] #you cannot sell negative number of items\n",
    "    return dataset\n",
    "\n",
    "def find_outliers_iforrest(dataset):\n",
    "    \"\"\"Take one argument (pd.dataframe) and return this dataframe without the outliers.\n",
    "    Removes column \"date\" in the process.\n",
    "    \"\"\"\n",
    "    start = time.time()\n",
    "    dataset = dataset.drop(columns=\"date\")\n",
    "    dataset = rem_err_values(dataset)\n",
    "    iso = IsolationForest()\n",
    "    outlier_model = iso.fit_predict(dataset)\n",
    "    mask = outlier_model != -1\n",
    "    dataset = dataset.loc[mask]\n",
    "    print(f'Walltime: {time.time()-start}')\n",
    "    return dataset\n",
    "    \n",
    "def find_outliers_IQR(dataset, column):\n",
    "    dataset = dataset.drop(columns=\"date\")\n",
    "    Q1 = dataset[column].quantile(0.25)\n",
    "    Q3 = dataset[column].quantile(0.75)\n",
    "    IQR = Q3 - Q1\n",
    "    dataset = dataset[dataset[column]<(Q3+1.5*IQR)]\n",
    "    return dataset\n",
    "\n",
    "df_test = find_outliers_iforrest(train_data)"
   ]
  },
  {
   "cell_type": "code",
   "execution_count": 165,
   "id": "e209902d",
   "metadata": {},
   "outputs": [
    {
     "name": "stdout",
     "output_type": "stream",
     "text": [
      "Missing values per group:\n",
      "date_block_num    0\n",
      "shop_id           0\n",
      "item_id           0\n",
      "item_price        0\n",
      "item_cnt_day      0\n",
      "dtype: int64\n",
      "\n",
      "                date_block_num   shop_id   item_id  item_price  item_cnt_day\n",
      "date_block_num             NaN  0.019869  0.011397    0.109312      0.019591\n",
      "shop_id               0.019869       NaN  0.039815    0.031233      0.017745\n",
      "item_id               0.011397  0.039815       NaN    0.315148      0.000685\n",
      "item_price            0.109312  0.031233  0.315148         NaN      0.039393\n",
      "item_cnt_day          0.019591  0.017745  0.000685    0.039393           NaN\n",
      "\n",
      "Percentage correlation for item_cnt_day\n",
      "date_block_num    1.959061\n",
      "shop_id           1.774532\n",
      "item_id           0.068517\n",
      "item_price        3.939251\n",
      "item_cnt_day           NaN\n",
      "dtype: float64\n"
     ]
    }
   ],
   "source": [
    "print(f'Missing values per group:\\n{df_test.isna().sum()}\\n')\n",
    "def correlation(dataset):\n",
    "    corr = dataset.corr()\n",
    "    corr = corr[corr<1]\n",
    "    corr = abs(corr)\n",
    "    print(f'{corr}\\n')\n",
    "    corr = corr.loc[[\"item_cnt_day\"]]\n",
    "    print(f'Percentage correlation for item_cnt_day:\\n{corr.max()*100}')\n",
    "correlation(df_test)"
   ]
  },
  {
   "cell_type": "code",
   "execution_count": 182,
   "id": "3f648129",
   "metadata": {},
   "outputs": [
    {
     "data": {
      "text/html": [
       "<div>\n",
       "<style scoped>\n",
       "    .dataframe tbody tr th:only-of-type {\n",
       "        vertical-align: middle;\n",
       "    }\n",
       "\n",
       "    .dataframe tbody tr th {\n",
       "        vertical-align: top;\n",
       "    }\n",
       "\n",
       "    .dataframe thead th {\n",
       "        text-align: right;\n",
       "    }\n",
       "</style>\n",
       "<table border=\"1\" class=\"dataframe\">\n",
       "  <thead>\n",
       "    <tr style=\"text-align: right;\">\n",
       "      <th></th>\n",
       "      <th>date_block_num</th>\n",
       "      <th>shop_id</th>\n",
       "      <th>item_id</th>\n",
       "      <th>item_price</th>\n",
       "      <th>item_cnt_day</th>\n",
       "    </tr>\n",
       "  </thead>\n",
       "  <tbody>\n",
       "    <tr>\n",
       "      <th>count</th>\n",
       "      <td>2.442047e+06</td>\n",
       "      <td>2.442047e+06</td>\n",
       "      <td>2.442047e+06</td>\n",
       "      <td>2.442047e+06</td>\n",
       "      <td>2.442047e+06</td>\n",
       "    </tr>\n",
       "    <tr>\n",
       "      <th>mean</th>\n",
       "      <td>1.424093e+01</td>\n",
       "      <td>3.370594e+01</td>\n",
       "      <td>1.008176e+04</td>\n",
       "      <td>6.331092e+02</td>\n",
       "      <td>1.022801e+00</td>\n",
       "    </tr>\n",
       "    <tr>\n",
       "      <th>std</th>\n",
       "      <td>9.028904e+00</td>\n",
       "      <td>1.542366e+01</td>\n",
       "      <td>6.076488e+03</td>\n",
       "      <td>6.190410e+02</td>\n",
       "      <td>1.502692e-01</td>\n",
       "    </tr>\n",
       "    <tr>\n",
       "      <th>min</th>\n",
       "      <td>0.000000e+00</td>\n",
       "      <td>0.000000e+00</td>\n",
       "      <td>0.000000e+00</td>\n",
       "      <td>-1.000000e+00</td>\n",
       "      <td>1.000000e+00</td>\n",
       "    </tr>\n",
       "    <tr>\n",
       "      <th>25%</th>\n",
       "      <td>7.000000e+00</td>\n",
       "      <td>2.400000e+01</td>\n",
       "      <td>4.688000e+03</td>\n",
       "      <td>2.470000e+02</td>\n",
       "      <td>1.000000e+00</td>\n",
       "    </tr>\n",
       "    <tr>\n",
       "      <th>50%</th>\n",
       "      <td>1.300000e+01</td>\n",
       "      <td>3.100000e+01</td>\n",
       "      <td>9.396000e+03</td>\n",
       "      <td>3.990000e+02</td>\n",
       "      <td>1.000000e+00</td>\n",
       "    </tr>\n",
       "    <tr>\n",
       "      <th>75%</th>\n",
       "      <td>2.200000e+01</td>\n",
       "      <td>4.700000e+01</td>\n",
       "      <td>1.529600e+04</td>\n",
       "      <td>7.990000e+02</td>\n",
       "      <td>1.000000e+00</td>\n",
       "    </tr>\n",
       "    <tr>\n",
       "      <th>max</th>\n",
       "      <td>3.300000e+01</td>\n",
       "      <td>5.900000e+01</td>\n",
       "      <td>2.216700e+04</td>\n",
       "      <td>4.290000e+03</td>\n",
       "      <td>3.000000e+00</td>\n",
       "    </tr>\n",
       "  </tbody>\n",
       "</table>\n",
       "</div>"
      ],
      "text/plain": [
       "       date_block_num       shop_id       item_id    item_price  item_cnt_day\n",
       "count    2.442047e+06  2.442047e+06  2.442047e+06  2.442047e+06  2.442047e+06\n",
       "mean     1.424093e+01  3.370594e+01  1.008176e+04  6.331092e+02  1.022801e+00\n",
       "std      9.028904e+00  1.542366e+01  6.076488e+03  6.190410e+02  1.502692e-01\n",
       "min      0.000000e+00  0.000000e+00  0.000000e+00 -1.000000e+00  1.000000e+00\n",
       "25%      7.000000e+00  2.400000e+01  4.688000e+03  2.470000e+02  1.000000e+00\n",
       "50%      1.300000e+01  3.100000e+01  9.396000e+03  3.990000e+02  1.000000e+00\n",
       "75%      2.200000e+01  4.700000e+01  1.529600e+04  7.990000e+02  1.000000e+00\n",
       "max      3.300000e+01  5.900000e+01  2.216700e+04  4.290000e+03  3.000000e+00"
      ]
     },
     "execution_count": 182,
     "metadata": {},
     "output_type": "execute_result"
    }
   ],
   "source": [
    "def linreg(dataset):\n",
    "    X = dataset[[\"item_id\"]]\n",
    "    y = dataset[[\"item_cnt_day\"]]\n",
    "    reg = LinearRegression().fit(X, y)\n",
    "    pred = reg.predict(X)\n",
    "    rms = mean_squared_error(y, pred, squared=False)\n",
    "    return rms\n",
    "    \n",
    "linreg(df_test)\n",
    "df_test.describe()"
   ]
  },
  {
   "cell_type": "code",
   "execution_count": 184,
   "id": "0b9c35ea",
   "metadata": {},
   "outputs": [
    {
     "data": {
      "image/png": "[encoded data removed]",
      "text/plain": [
       "<Figure size 640x480 with 1 Axes>"
      ]
     },
     "metadata": {},
     "output_type": "display_data"
    }
   ],
   "source": [
    "plt.boxplot(df_test[\"item_cnt_day\"])\n",
    "plt.show()"
   ]
  }
 ],
 "metadata": {
  "kernelspec": {
   "display_name": "Python 3 (ipykernel)",
   "language": "python",
   "name": "python3"
  },
  "language_info": {
   "codemirror_mode": {
    "name": "ipython",
    "version": 3
   },
   "file_extension": ".py",
   "mimetype": "text/x-python",
   "name": "python",
   "nbconvert_exporter": "python",
   "pygments_lexer": "ipython3",
   "version": "3.10.7"
  }
 },
 "nbformat": 4,
 "nbformat_minor": 5
}
