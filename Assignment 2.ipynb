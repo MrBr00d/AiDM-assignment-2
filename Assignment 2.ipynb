{
 "cells": [
  {
   "cell_type": "code",
   "execution_count": 193,
   "id": "055ec994",
   "metadata": {},
   "outputs": [],
   "source": [
    "import pandas as pd\n",
    "import random\n",
    "import time\n",
    "import numpy as np\n",
    "import timeit\n",
    "import matplotlib.pyplot as plt\n",
    "from sklearn.ensemble import IsolationForest\n",
    "from sklearn.linear_model import LinearRegression\n",
    "from sklearn.metrics import mean_squared_error\n",
    "from sklearn.preprocessing import StandardScaler\n",
    "import xgboost as xgb\n",
    "from sklearn.model_selection import train_test_split"
   ]
  },
  {
   "cell_type": "code",
   "execution_count": 160,
   "id": "e80b5424",
   "metadata": {},
   "outputs": [],
   "source": [
    "train_data = pd.read_csv(\"sales_train.csv\")\n",
    "items = pd.read_csv(\"items.csv\")\n",
    "test_data = pd.read_csv('test.csv')"
   ]
  },
  {
   "cell_type": "code",
   "execution_count": 183,
   "id": "14502c27",
   "metadata": {
    "scrolled": false
   },
   "outputs": [
    {
     "data": {
      "image/png": "[encoded data removed]",
      "text/plain": [
       "<Figure size 640x480 with 1 Axes>"
      ]
     },
     "metadata": {},
     "output_type": "display_data"
    },
    {
     "name": "stdout",
     "output_type": "stream",
     "text": [
      "       date_block_num       shop_id       item_id    item_price  item_cnt_day\n",
      "count    2.935849e+06  2.935849e+06  2.935849e+06  2.935849e+06  2.935849e+06\n",
      "mean     1.456991e+01  3.300173e+01  1.019723e+04  8.908532e+02  1.242641e+00\n",
      "std      9.422988e+00  1.622697e+01  6.324297e+03  1.729800e+03  2.618834e+00\n",
      "min      0.000000e+00  0.000000e+00  0.000000e+00 -1.000000e+00 -2.200000e+01\n",
      "25%      7.000000e+00  2.200000e+01  4.476000e+03  2.490000e+02  1.000000e+00\n",
      "50%      1.400000e+01  3.100000e+01  9.343000e+03  3.990000e+02  1.000000e+00\n",
      "75%      2.300000e+01  4.700000e+01  1.568400e+04  9.990000e+02  1.000000e+00\n",
      "max      3.300000e+01  5.900000e+01  2.216900e+04  3.079800e+05  2.169000e+03\n"
     ]
    }
   ],
   "source": [
    "plt.boxplot(train_data[\"item_cnt_day\"])\n",
    "plt.show()\n",
    "print(train_data.describe())"
   ]
  },
  {
   "cell_type": "code",
   "execution_count": 119,
   "id": "fe3e5199",
   "metadata": {
    "scrolled": true
   },
   "outputs": [
    {
     "name": "stdout",
     "output_type": "stream",
     "text": [
      "(2935849, 5)\n",
      "(2928493, 5)\n",
      "Walltime: 53.183334827423096\n",
      "(2442047, 5)\n"
     ]
    }
   ],
   "source": [
    "def rem_err_values(dataset):\n",
    "    \"\"\"\n",
    "    Remove all values that are considered to be erroneous.\n",
    "    \"\"\"\n",
    "    dataset = dataset[dataset[\"item_cnt_day\"] > 0] #you cannot sell negative number of items\n",
    "    return dataset\n",
    "\n",
    "def find_outliers_iforrest(dataset):\n",
    "    \"\"\"Take one argument (pd.dataframe) and return this dataframe without the outliers.\n",
    "    Removes column \"date\" in the process.\n",
    "    \"\"\"\n",
    "    start = time.time()\n",
    "    dataset = dataset.drop(columns=\"date\")\n",
    "    dataset = rem_err_values(dataset)\n",
    "    iso = IsolationForest()\n",
    "    outlier_model = iso.fit_predict(dataset)\n",
    "    mask = outlier_model != -1\n",
    "    dataset = dataset.loc[mask]\n",
    "    print(f'Walltime: {time.time()-start}')\n",
    "    return dataset\n",
    "    \n",
    "def find_outliers_IQR(dataset, column):\n",
    "    dataset = dataset.drop(columns=\"date\")\n",
    "    Q1 = dataset[column].quantile(0.25)\n",
    "    Q3 = dataset[column].quantile(0.75)\n",
    "    IQR = Q3 - Q1\n",
    "    dataset = dataset[dataset[column]<(Q3+1.5*IQR)]\n",
    "    return dataset\n",
    "\n",
    "df_test = find_outliers_iforrest(train_data)"
   ]
  },
  {
   "cell_type": "code",
   "execution_count": 165,
   "id": "e209902d",
   "metadata": {},
   "outputs": [
    {
     "name": "stdout",
     "output_type": "stream",
     "text": [
      "Missing values per group:\n",
      "date_block_num    0\n",
      "shop_id           0\n",
      "item_id           0\n",
      "item_price        0\n",
      "item_cnt_day      0\n",
      "dtype: int64\n",
      "\n",
      "                date_block_num   shop_id   item_id  item_price  item_cnt_day\n",
      "date_block_num             NaN  0.019869  0.011397    0.109312      0.019591\n",
      "shop_id               0.019869       NaN  0.039815    0.031233      0.017745\n",
      "item_id               0.011397  0.039815       NaN    0.315148      0.000685\n",
      "item_price            0.109312  0.031233  0.315148         NaN      0.039393\n",
      "item_cnt_day          0.019591  0.017745  0.000685    0.039393           NaN\n",
      "\n",
      "Percentage correlation for item_cnt_day\n",
      "date_block_num    1.959061\n",
      "shop_id           1.774532\n",
      "item_id           0.068517\n",
      "item_price        3.939251\n",
      "item_cnt_day           NaN\n",
      "dtype: float64\n"
     ]
    }
   ],
   "source": [
    "print(f'Missing values per group:\\n{df_test.isna().sum()}\\n')\n",
    "def correlation(dataset):\n",
    "    corr = dataset.corr()\n",
    "    corr = corr[corr<1]\n",
    "    corr = abs(corr)\n",
    "    print(f'{corr}\\n')\n",
    "    corr = corr.loc[[\"item_cnt_day\"]]\n",
    "    print(f'Percentage correlation for item_cnt_day:\\n{corr.max()*100}')\n",
    "correlation(df_test)"
   ]
  },
  {
   "cell_type": "code",
   "execution_count": 4,
   "id": "3f648129",
   "metadata": {},
   "outputs": [
    {
     "data": {
      "text/plain": [
       "2.618470946608825"
      ]
     },
     "execution_count": 4,
     "metadata": {},
     "output_type": "execute_result"
    }
   ],
   "source": [
    "def linreg(dataset):\n",
    "    X = dataset[[\"item_id\"]]\n",
    "    y = dataset[[\"item_cnt_day\"]]\n",
    "    reg = LinearRegression().fit(X, y)\n",
    "    pred = reg.predict(X)\n",
    "    rms = mean_squared_error(y, pred, squared=False)\n",
    "    return rms\n",
    "    \n",
    "linreg(train_data)"
   ]
  },
  {
   "cell_type": "code",
   "execution_count": 3,
   "id": "8dea0d7b",
   "metadata": {},
   "outputs": [],
   "source": [
    "items = items.drop(['item_name'], axis = 1)"
   ]
  },
  {
   "cell_type": "code",
   "execution_count": 190,
   "id": "3bc11060",
   "metadata": {},
   "outputs": [
    {
     "data": {
      "text/html": [
       "<div>\n",
       "<style scoped>\n",
       "    .dataframe tbody tr th:only-of-type {\n",
       "        vertical-align: middle;\n",
       "    }\n",
       "\n",
       "    .dataframe tbody tr th {\n",
       "        vertical-align: top;\n",
       "    }\n",
       "\n",
       "    .dataframe thead th {\n",
       "        text-align: right;\n",
       "    }\n",
       "</style>\n",
       "<table border=\"1\" class=\"dataframe\">\n",
       "  <thead>\n",
       "    <tr style=\"text-align: right;\">\n",
       "      <th></th>\n",
       "      <th>item_id</th>\n",
       "      <th>item_category_id</th>\n",
       "      <th>date_block_num</th>\n",
       "      <th>shop_id</th>\n",
       "      <th>item_cnt_day</th>\n",
       "    </tr>\n",
       "  </thead>\n",
       "  <tbody>\n",
       "    <tr>\n",
       "      <th>0</th>\n",
       "      <td>0</td>\n",
       "      <td>40</td>\n",
       "      <td>20</td>\n",
       "      <td>54</td>\n",
       "      <td>1.0</td>\n",
       "    </tr>\n",
       "    <tr>\n",
       "      <th>1</th>\n",
       "      <td>1</td>\n",
       "      <td>76</td>\n",
       "      <td>15</td>\n",
       "      <td>55</td>\n",
       "      <td>1.0</td>\n",
       "    </tr>\n",
       "    <tr>\n",
       "      <th>2</th>\n",
       "      <td>1</td>\n",
       "      <td>76</td>\n",
       "      <td>15</td>\n",
       "      <td>55</td>\n",
       "      <td>1.0</td>\n",
       "    </tr>\n",
       "    <tr>\n",
       "      <th>3</th>\n",
       "      <td>1</td>\n",
       "      <td>76</td>\n",
       "      <td>18</td>\n",
       "      <td>55</td>\n",
       "      <td>1.0</td>\n",
       "    </tr>\n",
       "    <tr>\n",
       "      <th>4</th>\n",
       "      <td>1</td>\n",
       "      <td>76</td>\n",
       "      <td>19</td>\n",
       "      <td>55</td>\n",
       "      <td>1.0</td>\n",
       "    </tr>\n",
       "    <tr>\n",
       "      <th>...</th>\n",
       "      <td>...</td>\n",
       "      <td>...</td>\n",
       "      <td>...</td>\n",
       "      <td>...</td>\n",
       "      <td>...</td>\n",
       "    </tr>\n",
       "    <tr>\n",
       "      <th>2935844</th>\n",
       "      <td>22168</td>\n",
       "      <td>62</td>\n",
       "      <td>1</td>\n",
       "      <td>42</td>\n",
       "      <td>1.0</td>\n",
       "    </tr>\n",
       "    <tr>\n",
       "      <th>2935845</th>\n",
       "      <td>22168</td>\n",
       "      <td>62</td>\n",
       "      <td>1</td>\n",
       "      <td>16</td>\n",
       "      <td>1.0</td>\n",
       "    </tr>\n",
       "    <tr>\n",
       "      <th>2935846</th>\n",
       "      <td>22168</td>\n",
       "      <td>62</td>\n",
       "      <td>2</td>\n",
       "      <td>43</td>\n",
       "      <td>1.0</td>\n",
       "    </tr>\n",
       "    <tr>\n",
       "      <th>2935847</th>\n",
       "      <td>22168</td>\n",
       "      <td>62</td>\n",
       "      <td>8</td>\n",
       "      <td>12</td>\n",
       "      <td>1.0</td>\n",
       "    </tr>\n",
       "    <tr>\n",
       "      <th>2935848</th>\n",
       "      <td>22169</td>\n",
       "      <td>69</td>\n",
       "      <td>14</td>\n",
       "      <td>25</td>\n",
       "      <td>1.0</td>\n",
       "    </tr>\n",
       "  </tbody>\n",
       "</table>\n",
       "<p>2935849 rows × 5 columns</p>\n",
       "</div>"
      ],
      "text/plain": [
       "         item_id  item_category_id  date_block_num  shop_id  item_cnt_day\n",
       "0              0                40              20       54           1.0\n",
       "1              1                76              15       55           1.0\n",
       "2              1                76              15       55           1.0\n",
       "3              1                76              18       55           1.0\n",
       "4              1                76              19       55           1.0\n",
       "...          ...               ...             ...      ...           ...\n",
       "2935844    22168                62               1       42           1.0\n",
       "2935845    22168                62               1       16           1.0\n",
       "2935846    22168                62               2       43           1.0\n",
       "2935847    22168                62               8       12           1.0\n",
       "2935848    22169                69              14       25           1.0\n",
       "\n",
       "[2935849 rows x 5 columns]"
      ]
     },
     "execution_count": 190,
     "metadata": {},
     "output_type": "execute_result"
    }
   ],
   "source": [
    "df = pd.merge(items, train_data, how = 'inner')\n",
    "df = df.drop(['date', 'item_price', 'item_name'], axis = 1)"
   ]
  },
  {
   "cell_type": "code",
   "execution_count": 192,
   "id": "ff37063b",
   "metadata": {
    "scrolled": true
   },
   "outputs": [
    {
     "name": "stdout",
     "output_type": "stream",
     "text": [
      "         item_cnt_month\n",
      "0                   6.0\n",
      "1                   3.0\n",
      "2                   1.0\n",
      "3                   1.0\n",
      "4                   2.0\n",
      "...                 ...\n",
      "1609119             6.0\n",
      "1609120             2.0\n",
      "1609121             1.0\n",
      "1609122             1.0\n",
      "1609123             1.0\n",
      "\n",
      "[1609124 rows x 1 columns]\n"
     ]
    }
   ],
   "source": [
    "temp_data = df.groupby(['date_block_num','shop_id','item_id','item_category_id']).sum().reset_index()\n",
    "temp_data.rename(columns = {'item_cnt_day' : 'item_cnt_month'},inplace=True)\n",
    "temp_data = temp_data.pivot_table(index=['shop_id','item_id', 'item_category_id'], columns='date_block_num', values='item_cnt_month').fillna(0.0)\n"
   ]
  },
  {
   "cell_type": "code",
   "execution_count": null,
   "id": "3325c62d",
   "metadata": {},
   "outputs": [],
   "source": [
    "X = temp_data.iloc[:,  (temp_data.columns != 33)].values\n",
    "y = temp_data.iloc[:, temp_data.columns == 33].values\n",
    "# x_train,x_test,y_train,y_test = train_test_split(X,y,test_size=0.3)\n",
    "xgbtrain = xgb.DMatrix(X, y)\n",
    "param = {'max_depth':10, \n",
    "         'subsample':1,\n",
    "         'min_child_weight':0.5,\n",
    "         'eta':0.3, \n",
    "         'num_round':1000, \n",
    "         'seed':1,\n",
    "         'silent':0,\n",
    "         'eval_metric':'rmse'}\n",
    "\n",
    "bst = xgb.train(param, xgbtrain)\n",
    "preds = bst.predict(xgb.DMatrix(temp_data.iloc[:,  (temp_data.columns != 33)].values))\n",
    "rmse = np.sqrt(mean_squared_error(preds,temp_data.iloc[:, temp_data.columns == 33].values))\n",
    "print(rmse)"
   ]
  },
  {
   "cell_type": "code",
   "execution_count": null,
   "id": "a5659f47",
   "metadata": {},
   "outputs": [],
   "source": [
    "##################"
   ]
  },
  {
   "cell_type": "code",
   "execution_count": 201,
   "id": "4fe48582",
   "metadata": {},
   "outputs": [
    {
     "name": "stdout",
     "output_type": "stream",
     "text": [
      "         item_cnt_month\n",
      "0                   6.0\n",
      "1                   3.0\n",
      "2                   1.0\n",
      "3                   1.0\n",
      "4                   2.0\n",
      "...                 ...\n",
      "1609119             6.0\n",
      "1609120             2.0\n",
      "1609121             1.0\n",
      "1609122             1.0\n",
      "1609123             1.0\n",
      "\n",
      "[1609124 rows x 1 columns]\n",
      "         date_block_num  shop_id  item_id  item_category_id  item_cnt_month\n",
      "0                     0        0       32                40             6.0\n",
      "1                     0        0       33                37             3.0\n",
      "2                     0        0       35                40             1.0\n",
      "3                     0        0       43                40             1.0\n",
      "4                     0        0       51                57             2.0\n",
      "...                 ...      ...      ...               ...             ...\n",
      "1609119              33       59    22087                83             6.0\n",
      "1609120              33       59    22088                83             2.0\n",
      "1609121              33       59    22091                83             1.0\n",
      "1609122              33       59    22100                42             1.0\n",
      "1609123              33       59    22102                42             1.0\n",
      "\n",
      "[1609124 rows x 5 columns]\n"
     ]
    }
   ],
   "source": [
    "temp_data = df.groupby(['date_block_num','shop_id','item_id','item_category_id']).sum().reset_index()\n",
    "temp_data.rename(columns = {'item_cnt_day' : 'item_cnt_month'},inplace=True)\n",
    "print(month)\n",
    "print(temp_data)\n",
    "temp_data = temp_data.pivot_table(index=['shop_id','item_id', 'item_category_id'], columns='date_block_num', values='item_cnt_month').fillna(0.0)"
   ]
  },
  {
   "cell_type": "code",
   "execution_count": 220,
   "id": "594756d5",
   "metadata": {
    "scrolled": true
   },
   "outputs": [
    {
     "name": "stdout",
     "output_type": "stream",
     "text": [
      "0.11474680838669271\n"
     ]
    }
   ],
   "source": [
    "X = temp_data.iloc[:,  (temp_data.columns != 33)].values\n",
    "y = temp_data.iloc[:, temp_data.columns == 33].values\n",
    "\n",
    "\n",
    "\n",
    "xgbtrain = xgb.DMatrix(X, y)\n",
    "# param = {'max_depth':10, \n",
    "#          'subsample':1,\n",
    "#          'min_child_weight':0.5,\n",
    "#          'eta':0.3, \n",
    "#          'num_round':1000, \n",
    "#          'seed':1,\n",
    "#          'silent':0,\n",
    "#          'eval_metric':'rmse'}\n",
    "\n",
    "bst = xgb.XGBRegressor()\n",
    "bst.fit(X,y)\n",
    "preds = bst.predict(X)\n",
    "rmse = np.sqrt(mean_squared_error(preds,y))\n",
    "print(rmse)"
   ]
  },
  {
   "cell_type": "code",
   "execution_count": 225,
   "id": "a7e8c7bf",
   "metadata": {
    "scrolled": true
   },
   "outputs": [
    {
     "data": {
      "text/plain": [
       "260.21536"
      ]
     },
     "execution_count": 225,
     "metadata": {},
     "output_type": "execute_result"
    }
   ],
   "source": [
    "preds.max()"
   ]
  },
  {
   "cell_type": "code",
   "execution_count": 187,
   "id": "96033334",
   "metadata": {},
   "outputs": [
    {
     "name": "stdout",
     "output_type": "stream",
     "text": [
      "(214200, 34)\n"
     ]
    }
   ],
   "source": [
    "submit_df = test_data.merge(temp_data, how = \"left\", on = [\"shop_id\", \"item_id\"]).fillna(0.0)\n",
    "submit_df.iloc[:,(submit_df.columns != 'ID')]\n",
    "print(submit_df.iloc[:,3:].shape)\n",
    "# preds = bst.predict(submit_df.iloc[:,(submit_df.columns != 'ID')].values)"
   ]
  },
  {
   "cell_type": "code",
   "execution_count": null,
   "id": "c79514cc",
   "metadata": {},
   "outputs": [],
   "source": []
  }
 ],
 "metadata": {
  "kernelspec": {
   "display_name": "Python 3 (ipykernel)",
   "language": "python",
   "name": "python3"
  },
  "language_info": {
   "codemirror_mode": {
    "name": "ipython",
    "version": 3
   },
   "file_extension": ".py",
   "mimetype": "text/x-python",
   "name": "python",
   "nbconvert_exporter": "python",
   "pygments_lexer": "ipython3",
   "version": "3.9.12"
  }
 },
 "nbformat": 4,
 "nbformat_minor": 5
}
